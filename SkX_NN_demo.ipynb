{
 "cells": [
  {
   "cell_type": "code",
   "execution_count": null,
   "metadata": {},
   "outputs": [],
   "source": [
    "%matplotlib widget\n",
    "\n",
    "import warnings\n",
    "from pathlib import Path\n",
    "from image_helpers import show_im, show_im_points\n",
    "from smallUnet import *\n",
    "from trained_NN import *\n",
    "warnings.filterwarnings(\"ignore\", module=\"torch.nn.functional\")\n",
    "\n",
    "if torch.cuda.is_available():\n",
    "    gpu = 0\n",
    "    print(f\"There are {torch.cuda.device_count()} GPUs available\")\n",
    "    print(f\"Running on GPU (index) {gpu}\")\n",
    "else:\n",
    "    gpu = \"cpu\"\n",
    "    print(\"GPU is not available, will run on CPU.\")\n",
    "\n",
    "savedir = Path(\"./NN_trained/\").absolute()\n",
    "nn_path = savedir / \"SkX_NN_final.pt\""
   ]
  },
  {
   "cell_type": "code",
   "execution_count": null,
   "metadata": {},
   "outputs": [],
   "source": [
    "test_im = np.load(\"./test_data/test_image_600G_150K.npy\")\n",
    "tilt_dir = -42.14 # tilt direction\n",
    "show_im(test_im, title=\"Example image, already filtered and tilt corrected\", simple=True)"
   ]
  },
  {
   "cell_type": "code",
   "execution_count": null,
   "metadata": {},
   "outputs": [],
   "source": [
    "model = trained_NN(nn_path, gpu=gpu)\n",
    "centers = model.find_skyrms(test_im, tilt_dir, thresh=0.3)\n",
    "show_im(model.prediction[:,:,0], \"model prediction\", simple=True)\n",
    "show_im_points(test_im, centers, title=\"Skyrmion locations\")"
   ]
  },
  {
   "cell_type": "code",
   "execution_count": null,
   "metadata": {},
   "outputs": [],
   "source": []
  }
 ],
 "metadata": {
  "kernelspec": {
   "display_name": "Python 3 (ipykernel)",
   "language": "python",
   "name": "python3"
  },
  "language_info": {
   "codemirror_mode": {
    "name": "ipython",
    "version": 3
   },
   "file_extension": ".py",
   "mimetype": "text/x-python",
   "name": "python",
   "nbconvert_exporter": "python",
   "pygments_lexer": "ipython3",
   "version": "3.8.8"
  },
  "latex_envs": {
   "LaTeX_envs_menu_present": true,
   "autoclose": false,
   "autocomplete": true,
   "bibliofile": "biblio.bib",
   "cite_by": "apalike",
   "current_citInitial": 1,
   "eqLabelWithNumbers": true,
   "eqNumInitial": 1,
   "hotkeys": {
    "equation": "Ctrl-E",
    "itemize": "Ctrl-I"
   },
   "labels_anchors": false,
   "latex_user_defs": false,
   "report_style_numbering": false,
   "user_envs_cfg": false
  },
  "varInspector": {
   "cols": {
    "lenName": 16,
    "lenType": 16,
    "lenVar": 40
   },
   "kernels_config": {
    "python": {
     "delete_cmd_postfix": "",
     "delete_cmd_prefix": "del ",
     "library": "var_list.py",
     "varRefreshCmd": "print(var_dic_list())"
    },
    "r": {
     "delete_cmd_postfix": ") ",
     "delete_cmd_prefix": "rm(",
     "library": "var_list.r",
     "varRefreshCmd": "cat(var_dic_list()) "
    }
   },
   "types_to_exclude": [
    "module",
    "function",
    "builtin_function_or_method",
    "instance",
    "_Feature"
   ],
   "window_display": false
  }
 },
 "nbformat": 4,
 "nbformat_minor": 4
}
